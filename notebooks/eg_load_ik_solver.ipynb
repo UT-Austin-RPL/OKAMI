{
 "cells": [
  {
   "cell_type": "code",
   "execution_count": null,
   "metadata": {},
   "outputs": [],
   "source": [
    "%load_ext autoreload\n",
    "%autoreload 2"
   ]
  },
  {
   "cell_type": "code",
   "execution_count": null,
   "metadata": {},
   "outputs": [],
   "source": [
    "import os\n",
    "\n",
    "os.chdir(\"..\")"
   ]
  },
  {
   "cell_type": "code",
   "execution_count": null,
   "metadata": {},
   "outputs": [],
   "source": [
    "import numpy as np\n",
    "\n",
    "from retarget.ik_solver import IKSolver\n",
    "from retarget.utils.configs import load_config\n",
    "from retarget.utils.load_robot import load_robot_description\n",
    "from retarget.visualizer import RobotVisualizer"
   ]
  },
  {
   "cell_type": "code",
   "execution_count": null,
   "metadata": {},
   "outputs": [],
   "source": [
    "config = load_config(\"configs/gr1.yaml\")"
   ]
  },
  {
   "cell_type": "code",
   "execution_count": null,
   "metadata": {},
   "outputs": [],
   "source": [
    "robot = load_robot_description(config[\"robot_description\"], root_joint=None)"
   ]
  },
  {
   "cell_type": "code",
   "execution_count": null,
   "metadata": {},
   "outputs": [],
   "source": [
    "solver = IKSolver(robot, config)"
   ]
  },
  {
   "cell_type": "code",
   "execution_count": null,
   "metadata": {},
   "outputs": [],
   "source": [
    "visualzier = RobotVisualizer(robot, config)"
   ]
  },
  {
   "cell_type": "code",
   "execution_count": null,
   "metadata": {},
   "outputs": [],
   "source": [
    "pose_visualize_params = {\n",
    "    \"origin_color\": 0xFF0000,\n",
    "    \"axis_length\": 0.05,\n",
    "    \"axis_thickness\": 0.001,\n",
    "    \"origin_radius\": 0.003,\n",
    "}\n",
    "pose = np.array(\n",
    "    [\n",
    "        1,\n",
    "        0,\n",
    "        0,\n",
    "        0.3,\n",
    "        0,\n",
    "        1,\n",
    "        0,\n",
    "        0.2,\n",
    "        0,\n",
    "        0,\n",
    "        1,\n",
    "        0.1,\n",
    "        0,\n",
    "        0,\n",
    "        0,\n",
    "        1,\n",
    "    ]\n",
    ").reshape(4, 4)\n",
    "\n",
    "visualzier.visualize(robot_state=None, pose_dict={\"target\": (pose, pose_visualize_params)})"
   ]
  },
  {
   "cell_type": "code",
   "execution_count": null,
   "metadata": {},
   "outputs": [],
   "source": [
    "target = {\"link_LArm7\": pose}\n",
    "q = solver.solve(target)\n",
    "visualzier.visualize(robot_state=q, pose_dict={\"target\": (pose, pose_visualize_params)})"
   ]
  }
 ],
 "metadata": {
  "kernelspec": {
   "display_name": "gr1-teleop",
   "language": "python",
   "name": "python3"
  },
  "language_info": {
   "codemirror_mode": {
    "name": "ipython",
    "version": 3
   },
   "file_extension": ".py",
   "mimetype": "text/x-python",
   "name": "python",
   "nbconvert_exporter": "python",
   "pygments_lexer": "ipython3",
   "version": "3.10.14"
  }
 },
 "nbformat": 4,
 "nbformat_minor": 2
}
