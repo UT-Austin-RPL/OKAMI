{
 "cells": [
  {
   "cell_type": "code",
   "execution_count": null,
   "metadata": {},
   "outputs": [],
   "source": [
    "%load_ext autoreload\n",
    "%autoreload 2"
   ]
  },
  {
   "cell_type": "code",
   "execution_count": null,
   "metadata": {},
   "outputs": [],
   "source": [
    "import os\n",
    "\n",
    "os.chdir(\"..\")"
   ]
  },
  {
   "cell_type": "code",
   "execution_count": null,
   "metadata": {},
   "outputs": [],
   "source": [
    "import glob\n",
    "import pickle\n",
    "import time\n",
    "from copy import deepcopy\n",
    "\n",
    "import numpy as np\n",
    "\n",
    "from retarget.ik_solver import IKSolver\n",
    "from retarget.robot import Robot\n",
    "from retarget.utils.configs import load_config\n",
    "from retarget.visualizer import RobotVisualizer"
   ]
  },
  {
   "cell_type": "code",
   "execution_count": null,
   "metadata": {},
   "outputs": [],
   "source": [
    "config = load_config(\"configs/gr1_teleop.yaml\")"
   ]
  },
  {
   "cell_type": "code",
   "execution_count": null,
   "metadata": {},
   "outputs": [],
   "source": [
    "robot = Robot(config)\n",
    "visualzier = RobotVisualizer(robot, config)"
   ]
  },
  {
   "cell_type": "code",
   "execution_count": null,
   "metadata": {},
   "outputs": [],
   "source": [
    "input_paths = glob.glob(\"data/*\")\n",
    "input_paths.sort()\n",
    "input_path = input_paths[-1]\n",
    "\n",
    "with open(input_path, \"rb\") as f:\n",
    "    data = np.load(f, allow_pickle=True)"
   ]
  },
  {
   "cell_type": "code",
   "execution_count": null,
   "metadata": {},
   "outputs": [],
   "source": [
    "left_pose_visualize_params = {\n",
    "    \"origin_color\": 0xFF0000,\n",
    "    \"axis_length\": 0.1,\n",
    "    \"axis_thickness\": 0.01,\n",
    "    \"origin_radius\": 0.03,\n",
    "}\n",
    "\n",
    "right_pose_visualize_params = {\n",
    "    \"origin_color\": 0x00FF00,\n",
    "    \"axis_length\": 0.1,\n",
    "    \"axis_thickness\": 0.01,\n",
    "    \"origin_radius\": 0.03,\n",
    "}\n",
    "\n",
    "head_pose_visualize_params = {\n",
    "    \"origin_color\": 0x0000FF,\n",
    "    \"axis_length\": 0.1,\n",
    "    \"axis_thickness\": 0.01,\n",
    "    \"origin_radius\": 0.03,\n",
    "}"
   ]
  },
  {
   "cell_type": "code",
   "execution_count": null,
   "metadata": {},
   "outputs": [],
   "source": [
    "head_axis_transform = np.array(\n",
    "    [0.0, -1.0, 0.0, 0.0, 1.0, 0.0, 0.0, 0.0, 0.0, 0.0, 1.0, 0.0, 0.0, 0.0, 0.0, 1.0]\n",
    ").reshape(4, 4)\n",
    "\n",
    "left_wrist_axis_transform = np.array(\n",
    "    [0.0, -1.0, 0.0, 0.0, -1.0, 0.0, 0.0, 0.0, 0.0, 0.0, -1.0, 0.0, 0.0, 0.0, 0.0, 1.0]\n",
    ").reshape(4, 4)\n",
    "\n",
    "right_wrist_axis_transform = np.array(\n",
    "    [0.0, 1.0, 0.0, 0.0, 1.0, 0.0, 0.0, 0.0, 0.0, 0.0, -1.0, 0.0, 0.0, 0.0, 0.0, 1.0]\n",
    ").reshape(4, 4)\n",
    "\n",
    "\n",
    "l_elbow_pitch_idx = robot.joint2idx[\"l_elbow_pitch\"]\n",
    "r_elbow_pitch_idx = robot.joint2idx[\"r_elbow_pitch\"]\n",
    "\n",
    "q = deepcopy(robot.configuration.q)\n",
    "q[l_elbow_pitch_idx] = np.pi / 2\n",
    "q[r_elbow_pitch_idx] = -np.pi / 2\n",
    "\n",
    "robot.update(q)\n",
    "robot_head_pose, robot_l_wrist_pose, robot_r_wrist_pose = robot.get_link_transformations(\n",
    "    [\"link_head_roll\", \"link_LArm7\", \"link_RArm7\"]\n",
    ")\n",
    "\n",
    "\n",
    "head_pose = data[0][\"head\"] @ head_axis_transform\n",
    "relative_transfrom = robot_head_pose @ np.linalg.inv(head_pose)\n",
    "# relative_transfrom[:3, 3] = 0.0\n",
    "\n",
    "data_new = []\n",
    "for data_t in data:\n",
    "    left_wrist_pose = relative_transfrom @ (data_t[\"left_wrist\"] @ left_wrist_axis_transform)\n",
    "    right_wrist_pose = relative_transfrom @ (data_t[\"right_wrist\"] @ right_wrist_axis_transform)\n",
    "    head_pose = relative_transfrom @ (data_t[\"head\"] @ head_axis_transform)\n",
    "    data_new.append(\n",
    "        {\"left_wrist\": left_wrist_pose, \"right_wrist\": right_wrist_pose, \"head\": head_pose}\n",
    "    )\n",
    "\n",
    "\n",
    "left_wrist_delta = deepcopy(data_new[0][\"left_wrist\"][0, :3, 3] - robot_l_wrist_pose[:3, 3])\n",
    "right_wrist_delta = deepcopy(data_new[0][\"right_wrist\"][0, :3, 3] - robot_r_wrist_pose[:3, 3])\n",
    "\n",
    "# relative_transfrom = np.eye(4)"
   ]
  },
  {
   "cell_type": "code",
   "execution_count": null,
   "metadata": {},
   "outputs": [],
   "source": [
    "for data_t in data_new:\n",
    "    left_wrist_pose = deepcopy(data_t[\"left_wrist\"])\n",
    "    left_wrist_pose[0, :3, 3] -= left_wrist_delta\n",
    "    right_wrist_pose = deepcopy(data_t[\"right_wrist\"])\n",
    "    right_wrist_pose[0, :3, 3] -= right_wrist_delta\n",
    "    head_pose = data_t[\"head\"]\n",
    "    visualzier.visualize(\n",
    "        robot_state=robot.configuration.q,\n",
    "        pose_dict={\n",
    "            \"left_wrist\": (left_wrist_pose, left_pose_visualize_params),\n",
    "            \"right_wrist\": (right_wrist_pose, right_pose_visualize_params),\n",
    "            \"head\": (head_pose, head_pose_visualize_params),\n",
    "            \"robot_left_wrist\": (robot_l_wrist_pose, left_pose_visualize_params),\n",
    "            \"robot_right_wrist\": (robot_r_wrist_pose, right_pose_visualize_params),\n",
    "            \"robot_head\": (robot_head_pose, head_pose_visualize_params),\n",
    "        },\n",
    "    )\n",
    "    # break\n",
    "    time.sleep(0.05)"
   ]
  },
  {
   "cell_type": "code",
   "execution_count": null,
   "metadata": {},
   "outputs": [],
   "source": [
    "solver = IKSolver(robot, config)"
   ]
  },
  {
   "cell_type": "code",
   "execution_count": null,
   "metadata": {},
   "outputs": [],
   "source": [
    "for data_t in data_new:\n",
    "    left_wrist_pose = deepcopy(data_t[\"left_wrist\"])\n",
    "    left_wrist_pose[0, :3, 3] -= left_wrist_delta\n",
    "    right_wrist_pose = deepcopy(data_t[\"right_wrist\"])\n",
    "    right_wrist_pose[0, :3, 3] -= right_wrist_delta\n",
    "    _ = solver.solve({\"link_LArm7\": left_wrist_pose[0], \"link_RArm7\": right_wrist_pose[0]})\n",
    "\n",
    "    robot_head_pose, robot_l_wrist_pose, robot_r_wrist_pose = robot.get_link_transformations(\n",
    "        [\"link_head_roll\", \"link_LArm7\", \"link_RArm7\"]\n",
    "    )\n",
    "    head_pose = data_t[\"head\"]\n",
    "    visualzier.visualize(\n",
    "        robot_state=robot.configuration.q,\n",
    "        pose_dict={\n",
    "            \"left_wrist\": (left_wrist_pose, left_pose_visualize_params),\n",
    "            \"right_wrist\": (right_wrist_pose, right_pose_visualize_params),\n",
    "            \"head\": (head_pose, head_pose_visualize_params),\n",
    "            \"robot_left_wrist\": (robot_l_wrist_pose, left_pose_visualize_params),\n",
    "            \"robot_right_wrist\": (robot_r_wrist_pose, right_pose_visualize_params),\n",
    "            \"robot_head\": (robot_head_pose, head_pose_visualize_params),\n",
    "        },\n",
    "    )\n",
    "    # break\n",
    "    time.sleep(0.05)"
   ]
  }
 ],
 "metadata": {
  "kernelspec": {
   "display_name": "gr1-teleop",
   "language": "python",
   "name": "python3"
  },
  "language_info": {
   "codemirror_mode": {
    "name": "ipython",
    "version": 3
   },
   "file_extension": ".py",
   "mimetype": "text/x-python",
   "name": "python",
   "nbconvert_exporter": "python",
   "pygments_lexer": "ipython3",
   "version": "3.10.14"
  }
 },
 "nbformat": 4,
 "nbformat_minor": 2
}
